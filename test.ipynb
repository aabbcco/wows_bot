{
 "metadata": {
  "language_info": {
   "codemirror_mode": {
    "name": "ipython",
    "version": 3
   },
   "file_extension": ".py",
   "mimetype": "text/x-python",
   "name": "python",
   "nbconvert_exporter": "python",
   "pygments_lexer": "ipython3",
   "version": "3.9.4"
  },
  "orig_nbformat": 2,
  "kernelspec": {
   "name": "python394jvsc74a57bd0a8039cbbfb745cfa79579daffaa6e20b789ca1af6d3320b18ccfbb1645d918f1",
   "display_name": "Python 3.9.4 64-bit ('aabbcco-bot': conda)"
  },
  "metadata": {
   "interpreter": {
    "hash": "a8039cbbfb745cfa79579daffaa6e20b789ca1af6d3320b18ccfbb1645d918f1"
   }
  }
 },
 "nbformat": 4,
 "nbformat_minor": 2,
 "cells": [
  {
   "cell_type": "code",
   "execution_count": 2,
   "metadata": {},
   "outputs": [
    {
     "output_type": "stream",
     "name": "stdout",
     "text": [
      "{'status': 'ok', 'meta': {'count': 1}, 'data': [{'nickname': 'shizuka_shiho', 'account_id': 2018539295}]}\n"
     ]
    }
   ],
   "source": [
    "from network_basic import PostRequestAsync\n",
    "url = \"https://api.worldofwarships.asia/wows/account/list/?application_id=41eea5422846e9db1871963330a1ae04&search=shizuka_shiho&language=zh-cn&type=exact\"\n",
    "\n",
    "ret = await PostRequestAsync(url)\n",
    "print(ret)"
   ]
  },
  {
   "cell_type": "code",
   "execution_count": 1,
   "metadata": {},
   "outputs": [
    {
     "output_type": "stream",
     "name": "stderr",
     "text": [
      "f:\\aabbcco\\vscode_python\\wows_bot\\network_basic.py:24: SyntaxWarning: \"is\" with a literal. Did you mean \"==\"?\n",
      "  return res['data'][0]['clan_id'] if field is 'clans' else res['data'][0]['account_id']\n",
      "https://api.worldofwarships.asia/wows/clans/info/?application_id=41eea5422846e9db1871963330a1ae04&clan_id=2000024198\n",
      "{'status': 'ok', 'meta': {'count': 1}, 'data': {'2000024198': {'members_count': 28, 'name': '东华大学第一联合舰队', 'creator_name': 'Type_3Fireworks', 'clan_id': 2000024198, 'created_at': 1595297739, 'updated_at': 1618402320, 'leader_name': 'Type_3Fireworks', 'members_ids': [2018539295, 2019155956, 2019835712, 2019927925, 2020265540, 2020322118, 2020615772, 2020741688, 2023154880, 2023195740, 2023584901, 2023604233, 2023956543, 2024595394, 2024753726, 2025276265, 2025507987, 2025676460, 2025714154, 2025999151, 2026979940, 2027579325, 2027600810, 2027697242, 2027739826, 2028079420, 2028350321, 2028376957], 'creator_id': 2020322118, 'tag': 'DDHU', 'old_name': None, 'is_clan_disbanded': False, 'renamed_at': None, 'old_tag': None, 'leader_id': 2020322118, 'description': '东华大学校友战舰世界军团,东华学子可以无条件申请加入。\\n招收石油工,胜率47及以上,一个星期100油保底。\\n招收cw选手,胜率50及以上,可以语音交流。\\n入团加群聊天水群,新群:1101382954'}}}\n"
     ]
    }
   ],
   "source": [
    "from network_basic import *\n",
    "url2=WowsRequestGenerater('asia',['clans','info'],{\"clan_id\":\"2000024198\"})\n",
    "print(url2)\n",
    "ret = await PostRequestAsync(url2)\n",
    "print(ret)"
   ]
  },
  {
   "cell_type": "code",
   "execution_count": 1,
   "metadata": {},
   "outputs": [
    {
     "output_type": "stream",
     "name": "stderr",
     "text": [
      "f:\\aabbcco\\vscode_python\\wows_bot\\network_basic.py:24: SyntaxWarning: \"is\" with a literal. Did you mean \"==\"?\n",
      "  return res['data'][0]['clan_id'] if field is 'clans' else res['data'][0]['account_id']\n",
      "2000024198\n",
      "{'members_count': 28, 'name': '东华大学第一联合舰队', 'creator_name': 'Type_3Fireworks', 'clan_id': 2000024198, 'created_at': 1595297739, 'updated_at': 1618402320, 'leader_name': 'Type_3Fireworks', 'members_ids': [2018539295, 2019155956, 2019835712, 2019927925, 2020265540, 2020322118, 2020615772, 2020741688, 2023154880, 2023195740, 2023584901, 2023604233, 2023956543, 2024595394, 2024753726, 2025276265, 2025507987, 2025676460, 2025714154, 2025999151, 2026979940, 2027579325, 2027600810, 2027697242, 2027739826, 2028079420, 2028350321, 2028376957], 'creator_id': 2020322118, 'tag': 'DDHU', 'old_name': None, 'is_clan_disbanded': False, 'renamed_at': None, 'old_tag': None, 'leader_id': 2020322118, 'description': '东华大学校友战舰世界军团,东华学子可以无条件申请加入。\\n招收石油工,胜率47及以上,一个星期100油保底。\\n招收cw选手,胜率50及以上,可以语音交流。\\n入团加群聊天水群,新群:1101382954'}\n"
     ]
    }
   ],
   "source": [
    "from network_basic import *\n",
    "res = await GetTargetIdByRequest('asia','clans','DDHU')\n",
    "print(res)\n",
    "res2 = await GetClanInfo('asia','2000024198')\n",
    "print(res2)"
   ]
  },
  {
   "cell_type": "code",
   "execution_count": null,
   "metadata": {},
   "outputs": [],
   "source": []
  }
 ]
}