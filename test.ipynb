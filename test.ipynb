{
 "metadata": {
  "language_info": {
   "codemirror_mode": {
    "name": "ipython",
    "version": 3
   },
   "file_extension": ".py",
   "mimetype": "text/x-python",
   "name": "python",
   "nbconvert_exporter": "python",
   "pygments_lexer": "ipython3",
   "version": "3.9.4"
  },
  "orig_nbformat": 2,
  "kernelspec": {
   "name": "python394jvsc74a57bd0a8039cbbfb745cfa79579daffaa6e20b789ca1af6d3320b18ccfbb1645d918f1",
   "display_name": "Python 3.9.4 64-bit"
  },
  "metadata": {
   "interpreter": {
    "hash": "a8039cbbfb745cfa79579daffaa6e20b789ca1af6d3320b18ccfbb1645d918f1"
   }
  }
 },
 "nbformat": 4,
 "nbformat_minor": 2,
 "cells": [
  {
   "cell_type": "code",
   "execution_count": 2,
   "metadata": {},
   "outputs": [
    {
     "output_type": "stream",
     "name": "stdout",
     "text": [
      "{'status': 'ok', 'meta': {'count': 1}, 'data': [{'nickname': 'shizuka_shiho', 'account_id': 2018539295}]}\n"
     ]
    }
   ],
   "source": [
    "from network_basic import PostRequestAsync\n",
    "url = \"https://api.worldofwarships.asia/wows/account/list/?application_id=41eea5422846e9db1871963330a1ae04&search=shizuka_shiho&language=zh-cn&type=exact\"\n",
    "\n",
    "ret = await PostRequestAsync(url)\n",
    "print(ret)"
   ]
  },
  {
   "cell_type": "code",
   "execution_count": 4,
   "metadata": {},
   "outputs": [
    {
     "output_type": "stream",
     "name": "stdout",
     "text": [
      "https://api.worldofwarships.asia/wows/account/info/?application_id=41eea5422846e9db1871963330a1ae04&account_id=2018539295\n",
      "{'status': 'ok', 'meta': {'count': 1, 'hidden': None}, 'data': {'2018539295': {'last_battle_time': 1619370085, 'account_id': 2018539295, 'leveling_tier': 15, 'created_at': 1511021728, 'leveling_points': 3591, 'updated_at': 1619370986, 'private': None, 'hidden_profile': False, 'logout_at': 1619370974, 'karma': None, 'statistics': {'distance': 129071, 'battles': 3250, 'pvp': {'max_xp': 4355, 'damage_to_buildings': 0, 'main_battery': {'max_frags_battle': 5, 'frags': 1492, 'hits': 178205, 'max_frags_ship_id': 3668916016, 'shots': 603441}, 'max_ships_spotted_ship_id': 4182652752, 'max_damage_scouting': 245960, 'art_agro': 2980731736, 'max_xp_ship_id': 4180555056, 'ships_spotted': 1241, 'second_battery': {'max_frags_battle': 1, 'frags': 12, 'hits': 7770, 'max_frags_ship_id': 3751753712, 'shots': 41583}, 'max_frags_ship_id': 3668916016, 'xp': 4856777, 'survived_battles': 1039, 'dropped_capture_points': 0, 'max_damage_dealt_to_buildings': 0, 'torpedo_agro': 153256940, 'draws': 0, 'control_captured_points': 28615, 'battles_since_510': 2743, 'max_total_agro_ship_id': 3760142288, 'planes_killed': 13381, 'battles': 2743, 'max_ships_spotted': 8, 'max_suppressions_ship_id': None, 'survived_wins': 890, 'frags': 1958, 'damage_scouting': 67713418, 'max_total_agro': 4185900, 'max_frags_battle': 5, 'capture_points': 0, 'ramming': {'max_frags_battle': 1, 'frags': 21, 'max_frags_ship_id': 3751753712}, 'suppressions_count': 0, 'max_suppressions_count': 0, 'torpedoes': {'max_frags_battle': 3, 'frags': 142, 'hits': 1293, 'max_frags_ship_id': 4078843600, 'shots': 15988}, 'max_planes_killed_ship_id': 3530504176, 'aircraft': {'max_frags_battle': 0, 'frags': 0, 'max_frags_ship_id': None}, 'team_capture_points': 326504, 'control_dropped_points': 13935, 'max_damage_dealt': 248329, 'max_damage_dealt_to_buildings_ship_id': None, 'max_damage_dealt_ship_id': 3760142288, 'wins': 1592, 'losses': 1151, 'damage_dealt': 183657386, 'max_planes_killed': 62, 'max_scouting_damage_ship_id': 4179506480, 'team_dropped_capture_points': 177811, 'battles_since_512': 2743}}, 'nickname': 'shizuka_shiho', 'stats_updated_at': 1619370986}}}\n"
     ]
    }
   ],
   "source": [
    "from network_basic import *\n",
    "url2=WowsRequestGenerater('asia',['account','info'],{\"account_id\":\"2018539295\"})\n",
    "print(url2)\n",
    "ret = await PostRequestAsync(url2)\n",
    "print(ret)"
   ]
  },
  {
   "cell_type": "code",
   "execution_count": 1,
   "metadata": {},
   "outputs": [
    {
     "output_type": "stream",
     "name": "stdout",
     "text": [
      "2000024198\n",
      "东约特兰\n"
     ]
    }
   ],
   "source": [
    "from network_basic import *\n",
    "res = await GetTargetIdByRequest('asia','clans','DDHU')\n",
    "print(res)\n",
    "res2 = await GetShipInfo('asia','4180555056')\n",
    "print(res2)"
   ]
  },
  {
   "cell_type": "code",
   "execution_count": 3,
   "metadata": {},
   "outputs": [
    {
     "output_type": "stream",
     "name": "stdout",
     "text": [
      "{'description': 'V国海军系列驱逐舰中的最后一艘。由于它们的尺寸在同时代的战舰中非常小，有时被归类为“轻型”驱逐舰。主炮武器由非常成功的120毫米自动两用炮组成。', 'price_gold': 0, 'ship_id_str': 'PWSD109', 'has_demo_profile': False, 'images': {'small': 'https://glossary-wows-global.gcdn.co/icons//vehicle/small/PWSD109_294d99b27a69f3522789d203f673ba85d7d759c0ddfa5c5ab9349c4fafa3155e.png', 'large': 'https://glossary-wows-global.gcdn.co/icons//vehicle/large/PWSD109_a6aa8ffde120df22fb8e963c2a280792faa64bb4777df93f65f131402b4d9998.png', 'medium': 'https://glossary-wows-global.gcdn.co/icons//vehicle/medium/PWSD109_824aff20cb67b7aedadd6f0e7a00c4854eda4812fc0241344bfb128718339ac7.png', 'contour': 'https://glossary-wows-global.gcdn.co/icons//vehicle/contour/PWSD109_25372878cf486a4a10d1dbcce4b52d279d3bd773d83fa1efbb967fd00cd37d34.png'}, 'modules': {'engine': [3454905648], 'torpedo_bomber': [], 'fighter': [], 'hull': [3454807344, 3453758768], 'artillery': [3455036720], 'torpedoes': [3453365552, 3454414128], 'fire_control': [3453398320, 3454446896], 'flight_control': [], 'dive_bomber': []}, 'modules_tree': {'3454414128': {'name': '鱼雷 M1943 1型', 'next_modules': [3453365552], 'is_default': True, 'price_xp': 0, 'price_credit': 1000000, 'next_ships': None, 'module_id': 3454414128, 'type': 'Torpedoes', 'module_id_str': 'PWUT801'}, '3454446896': {'name': 'SUO Mk9 1型', 'next_modules': [3453398320], 'is_default': True, 'price_xp': 0, 'price_credit': 1000000, 'next_ships': None, 'module_id': 3454446896, 'type': 'Suo', 'module_id_str': 'PWUS801'}, '3454807344': {'name': '东约特兰 (A)', 'next_modules': [3453758768], 'is_default': True, 'price_xp': 0, 'price_credit': 1500000, 'next_ships': None, 'module_id': 3454807344, 'type': 'Hull', 'module_id_str': 'PWUH801'}, '3454905648': {'name': '推进系统：44,000 匹马力', 'next_modules': None, 'is_default': True, 'price_xp': 0, 'price_credit': 1000000, 'next_ships': None, 'module_id': 3454905648, 'type': 'Engine', 'module_id_str': 'PWUE801'}, '3453365552': {'name': '鱼雷 M1947', 'next_modules': None, 'is_default': False, 'price_xp': 30000, 'price_credit': 2200000, 'next_ships': None, 'module_id': 3453365552, 'type': 'Torpedoes', 'module_id_str': 'PWUT802'}, '3455036720': {'name': '120 毫米/50 博福斯 1942型', 'next_modules': None, 'is_default': True, 'price_xp': 0, 'price_credit': 1000000, 'next_ships': None, 'module_id': 3455036720, 'type': 'Artillery', 'module_id_str': 'PWUA801'}, '3453398320': {'name': 'SUO Mk9 2型', 'next_modules': None, 'is_default': False, 'price_xp': 30000, 'price_credit': 2200000, 'next_ships': None, 'module_id': 3453398320, 'type': 'Suo', 'module_id_str': 'PWUS802'}, '3453758768': {'name': '东约特兰 (B)', 'next_modules': None, 'is_default': False, 'price_xp': 45000, 'price_credit': 3300000, 'next_ships': [4179506480], 'module_id': 3453758768, 'type': 'Hull', 'module_id_str': 'PWUH802'}}, 'nation': 'europe', 'is_premium': False, 'ship_id': 4180555056, 'price_credit': 13000000, 'default_profile': {'engine': {'engine_id_str': 'PWUE801', 'max_speed': 35.0, 'engine_id': 3454905648}, 'torpedo_bomber': None, 'anti_aircraft': {'slots': {'0': {'distance': -1.0, 'avg_damage': 48, 'caliber': 120, 'name': '120 毫米/50 博福斯 1942型', 'guns': 2}, '1': {'distance': -1.0, 'avg_damage': 52, 'caliber': 40, 'name': '40 毫米/60 博福斯 1936型', 'guns': 7}}, 'defense': 53}, 'mobility': {'rudder_time': 5.1, 'total': 63, 'turning_radius': 610, 'max_speed': 35.0}, 'hull': {'hull_id': 3454807344, 'hull_id_str': 'PWUH801', 'torpedoes_barrels': 2, 'anti_aircraft_barrels': 9, 'range': {'max': 20, 'min': 6}, 'health': 14100, 'planes_amount': 0, 'artillery_barrels': 2, 'atba_barrels': 0}, 'atbas': None, 'artillery': {'max_dispersion': 84, 'shells': {'AP': {'burn_probability': None, 'bullet_speed': 850, 'name': '120 mm AP M1942', 'damage': 2150, 'bullet_mass': 24, 'type': 'AP'}, 'HE': {'burn_probability': 7.0, 'bullet_speed': 850, 'name': '120 mm HE M1942', 'damage': 1700, 'bullet_mass': 24, 'type': 'HE'}}, 'shot_delay': 2.0, 'rotation_time': 18.0, 'distance': 9.3, 'artillery_id': 3455036720, 'artillery_id_str': 'PWUA801', 'slots': {'0': {'barrels': 2, 'name': '120 毫米/50 博福斯 1942型', 'guns': 2}}, 'gun_rate': 26.1}, 'torpedoes': {'visibility_dist': 1.6, 'distance': 12.0, 'torpedoes_id': 3454414128, 'torpedo_name': 'Torped M1943 mod\\xa01', 'reload_time': 100, 'torpedo_speed': 76, 'rotation_time': 7.2, 'torpedoes_id_str': 'PWUT801', 'slots': {'0': {'barrels': 4, 'caliber': 533, 'name': '533 mm 四联', 'guns': 2}}, 'max_damage': 10700}, 'fighters': None, 'fire_control': {'fire_control_id': 3454446896, 'distance': 9.3, 'distance_increase': 0, 'fire_control_id_str': 'PWUS801'}, 'weaponry': {'anti_aircraft': 53, 'aircraft': 0, 'artillery': 26, 'torpedoes': 18}, 'battle_level_range_max': 10, 'battle_level_range_min': 9, 'flight_control': None, 'concealment': {'total': 82, 'detect_distance_by_plane': 3.3, 'detect_distance_by_ship': 7.6}, 'armour': {'casemate': {'max': -1, 'min': -1}, 'flood_prob': 0, 'deck': {'max': -1, 'min': -1}, 'flood_damage': 0, 'range': {'max': 20, 'min': 6}, 'health': 14100, 'extremities': {'max': -1, 'min': -1}, 'total': 27, 'citadel': {'max': -1, 'min': -1}}, 'dive_bomber': None}, 'upgrades': [4268937136, 4262645680, 4220702640, 4265791408, 4273131440, 4269985712, 4267888560, 4278374320, 4266839984, 4260548528, 4275228592, 4279422896, 4257402800, 4259499952, 4287811504, 4261597104, 4280471472], 'tier': 9, 'next_ships': {'4179506480': 235000}, 'mod_slots': 6, 'type': 'Destroyer', 'is_special': False, 'name': '东约特兰'}\n"
     ]
    }
   ],
   "source": [
    "from network_basic import *\n",
    "import json\n",
    "url=WowsRequestGenerater('asia',['encyclopedia','ships'],{\"ship_id\":\"4180555056\",'language':'zh-cn'})\n",
    "res = await PostRequestAsync(url)\n",
    "\n",
    "print(res['4180555056'])"
   ]
  },
  {
   "cell_type": "code",
   "execution_count": null,
   "metadata": {},
   "outputs": [],
   "source": []
  }
 ]
}